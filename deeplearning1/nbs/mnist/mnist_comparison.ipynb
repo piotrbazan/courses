{
 "cells": [
  {
   "cell_type": "code",
   "execution_count": 2,
   "metadata": {
    "collapsed": false
   },
   "outputs": [],
   "source": [
    "%matplotlib inline\n",
    "from matplotlib import pyplot\n",
    "from mpl_toolkits.axes_grid1 import ImageGrid\n"
   ]
  },
  {
   "cell_type": "code",
   "execution_count": 23,
   "metadata": {
    "collapsed": false
   },
   "outputs": [],
   "source": [
    "from keras.models import Sequential\n",
    "from keras.layers import Dense, Activation, Flatten, Lambda, Reshape, MaxPooling2D, Conv2D\n",
    "from keras.datasets import mnist\n",
    "from keras.utils.np_utils import to_categorical\n",
    "import numpy as np    \n",
    "import tensorflow as tf"
   ]
  },
  {
   "cell_type": "markdown",
   "metadata": {},
   "source": [
    "### Check backend"
   ]
  },
  {
   "cell_type": "code",
   "execution_count": 4,
   "metadata": {
    "collapsed": false
   },
   "outputs": [
    {
     "name": "stdout",
     "output_type": "stream",
     "text": [
      "Keras version: 2.0.2\n"
     ]
    },
    {
     "data": {
      "text/plain": [
       "'tensorflow'"
      ]
     },
     "execution_count": 4,
     "metadata": {},
     "output_type": "execute_result"
    }
   ],
   "source": [
    "import keras\n",
    "print('Keras version:', keras.__version__)\n",
    "from keras import backend\n",
    "backend.backend()"
   ]
  },
  {
   "cell_type": "markdown",
   "metadata": {},
   "source": [
    "### Import data and reshape it"
   ]
  },
  {
   "cell_type": "code",
   "execution_count": 5,
   "metadata": {
    "collapsed": false
   },
   "outputs": [
    {
     "name": "stdout",
     "output_type": "stream",
     "text": [
      "Downloading data from https://s3.amazonaws.com/img-datasets/mnist.npz\n"
     ]
    }
   ],
   "source": [
    "(x_train, y_train), (x_test,y_test) = mnist.load_data()"
   ]
  },
  {
   "cell_type": "code",
   "execution_count": 6,
   "metadata": {
    "collapsed": false
   },
   "outputs": [
    {
     "data": {
      "text/plain": [
       "((60000, 28, 28), (60000,), (10000, 28, 28), (10000,))"
      ]
     },
     "execution_count": 6,
     "metadata": {},
     "output_type": "execute_result"
    }
   ],
   "source": [
    "x_train.shape, y_train.shape, x_test.shape, y_test.shape"
   ]
  },
  {
   "cell_type": "code",
   "execution_count": 7,
   "metadata": {
    "collapsed": false
   },
   "outputs": [],
   "source": [
    "x_train = np.expand_dims(x_train, 1)\n",
    "x_test = np.expand_dims(x_test, 1)\n",
    "\n",
    "y_train = to_categorical(y_train)\n",
    "y_test = to_categorical(y_test)"
   ]
  },
  {
   "cell_type": "code",
   "execution_count": 8,
   "metadata": {
    "collapsed": false
   },
   "outputs": [
    {
     "data": {
      "text/plain": [
       "((60000, 1, 28, 28), (60000, 10), (10000, 1, 28, 28), (10000, 10))"
      ]
     },
     "execution_count": 8,
     "metadata": {},
     "output_type": "execute_result"
    }
   ],
   "source": [
    "x_train.shape, y_train.shape, x_test.shape, y_test.shape"
   ]
  },
  {
   "cell_type": "code",
   "execution_count": 9,
   "metadata": {
    "collapsed": false
   },
   "outputs": [
    {
     "data": {
      "text/plain": [
       "array([[ 0.,  0.,  0.,  0.,  0.,  0.,  0.,  1.,  0.,  0.],\n",
       "       [ 0.,  0.,  1.,  0.,  0.,  0.,  0.,  0.,  0.,  0.],\n",
       "       [ 0.,  1.,  0.,  0.,  0.,  0.,  0.,  0.,  0.,  0.],\n",
       "       [ 1.,  0.,  0.,  0.,  0.,  0.,  0.,  0.,  0.,  0.],\n",
       "       [ 0.,  0.,  0.,  0.,  1.,  0.,  0.,  0.,  0.,  0.]])"
      ]
     },
     "execution_count": 9,
     "metadata": {},
     "output_type": "execute_result"
    }
   ],
   "source": [
    "y_test[0:5]"
   ]
  },
  {
   "cell_type": "markdown",
   "metadata": {},
   "source": [
    "### Constants"
   ]
  },
  {
   "cell_type": "code",
   "execution_count": 10,
   "metadata": {
    "collapsed": true
   },
   "outputs": [],
   "source": [
    "batch_size = 64"
   ]
  },
  {
   "cell_type": "code",
   "execution_count": 11,
   "metadata": {
    "collapsed": true
   },
   "outputs": [],
   "source": [
    "def seed():\n",
    "    np.random.seed(42)\n",
    "    tf.set_random_seed(42)"
   ]
  },
  {
   "cell_type": "code",
   "execution_count": 12,
   "metadata": {
    "collapsed": false
   },
   "outputs": [],
   "source": [
    "mean_px = x_train.mean().astype(np.float32)\n",
    "std_px = x_train.std().astype(np.float32)\n",
    "\n",
    "def norm(x):\n",
    "    return (x - mean_px) / std_px"
   ]
  },
  {
   "cell_type": "markdown",
   "metadata": {},
   "source": [
    "### Linear model"
   ]
  },
  {
   "cell_type": "code",
   "execution_count": 13,
   "metadata": {
    "collapsed": false
   },
   "outputs": [],
   "source": [
    "def linear_model_without_normalization():\n",
    "    model = Sequential([\n",
    "        Flatten(input_shape=(1,28,28)),\n",
    "        Dense(10, activation='softmax')\n",
    "    ])\n",
    "    model.compile(loss='categorical_crossentropy', optimizer='sgd' , metrics=['accuracy'])\n",
    "    return model"
   ]
  },
  {
   "cell_type": "code",
   "execution_count": 14,
   "metadata": {
    "collapsed": false
   },
   "outputs": [],
   "source": [
    "def linear_model():\n",
    "    model = Sequential([\n",
    "        Lambda(norm, input_shape=(1,28,28)),\n",
    "        Flatten(),\n",
    "        Dense(10, activation='softmax')\n",
    "    ])\n",
    "    model.compile(loss='categorical_crossentropy', optimizer='sgd' , metrics=['accuracy'])\n",
    "    return model"
   ]
  },
  {
   "cell_type": "markdown",
   "metadata": {},
   "source": [
    "### Neural network"
   ]
  },
  {
   "cell_type": "code",
   "execution_count": 15,
   "metadata": {
    "collapsed": false
   },
   "outputs": [],
   "source": [
    "def single_layer_network(activation = 'sigmoid', hidden_layer = 25, optimizer = 'sgd'):\n",
    "    model = Sequential([        \n",
    "        Lambda(norm, input_shape=(1,28,28)),\n",
    "        Flatten(),\n",
    "        Dense(hidden_layer, activation=activation),\n",
    "        Dense(10, activation='softmax')        \n",
    "    ])\n",
    "    model.compile(loss='categorical_crossentropy', optimizer=optimizer , metrics=['accuracy'])\n",
    "    return model"
   ]
  },
  {
   "cell_type": "markdown",
   "metadata": {},
   "source": [
    "### Two layered neural network"
   ]
  },
  {
   "cell_type": "code",
   "execution_count": 16,
   "metadata": {
    "collapsed": false
   },
   "outputs": [],
   "source": [
    "def two_leyered_network(activation = 'sigmoid', hidden_layer = 25, optimizer = 'sgd'):\n",
    "    model = Sequential([        \n",
    "        Lambda(norm, input_shape=(1,28,28)),\n",
    "        Flatten(),\n",
    "        Dense(hidden_layer, activation=activation),\n",
    "        Dense(hidden_layer, activation=activation),\n",
    "        Dense(10, activation='softmax')        \n",
    "    ])\n",
    "    model.compile(loss='categorical_crossentropy', optimizer=optimizer , metrics=['accuracy'])\n",
    "    return model"
   ]
  },
  {
   "cell_type": "markdown",
   "metadata": {},
   "source": [
    "### First convnet"
   ]
  },
  {
   "cell_type": "code",
   "execution_count": 31,
   "metadata": {
    "collapsed": false
   },
   "outputs": [],
   "source": [
    "def simple_convnet(activation = 'relu', hidden_layer = 25, optimizer = 'adam'):\n",
    "    data_format='channels_first'\n",
    "    model = Sequential([\n",
    "        Lambda(norm, input_shape=(1,28,28)),\n",
    "        Conv2D(32,3, activation=activation, data_format=data_format),\n",
    "        Conv2D(32,3, activation=activation, data_format=data_format),\n",
    "        MaxPooling2D(data_format=data_format),\n",
    "        Flatten(),\n",
    "        Dense(hidden_layer, activation=activation),\n",
    "        Dense(10, activation='softmax')\n",
    "    ])\n",
    "    model.compile(loss='categorical_crossentropy', optimizer=optimizer , metrics=['accuracy'])\n",
    "    return model"
   ]
  },
  {
   "cell_type": "markdown",
   "metadata": {},
   "source": [
    "### Testing"
   ]
  },
  {
   "cell_type": "code",
   "execution_count": 41,
   "metadata": {
    "collapsed": true
   },
   "outputs": [],
   "source": [
    "def fit(model):\n",
    "    seed()\n",
    "    return model.fit(x_train, y_train, nb_epoch=3, batch_size = batch_size, verbose=2, validation_data=(x_test, y_test))\n",
    "\n",
    "def small_fit(model, epochs=3, max_train = 1000, max_test = 1000):\n",
    "    seed()\n",
    "    small_x_train = x_train[0:max_train]\n",
    "    small_y_train = y_train[0:max_train]\n",
    "    small_x_test = x_test[0:max_test]\n",
    "    small_y_test = y_test[0:max_test]\n",
    "    return model.fit(small_x_train, small_y_train, epochs=epochs, batch_size = batch_size, verbose=2, validation_data=(small_x_test, small_y_test))"
   ]
  },
  {
   "cell_type": "markdown",
   "metadata": {},
   "source": [
    "#### linear models"
   ]
  },
  {
   "cell_type": "code",
   "execution_count": 218,
   "metadata": {
    "collapsed": false
   },
   "outputs": [
    {
     "name": "stdout",
     "output_type": "stream",
     "text": [
      "Train on 60000 samples, validate on 10000 samples\n",
      "Epoch 1/3\n",
      "2s - loss: 11.5147 - acc: 0.2853 - val_loss: 11.2015 - val_acc: 0.3049\n",
      "Epoch 2/3\n",
      "2s - loss: 11.2182 - acc: 0.3039 - val_loss: 11.1603 - val_acc: 0.3075\n",
      "Epoch 3/3\n",
      "2s - loss: 11.1989 - acc: 0.3052 - val_loss: 11.1870 - val_acc: 0.3059\n"
     ]
    },
    {
     "data": {
      "text/plain": [
       "<keras.callbacks.History at 0x7f373e7c3d30>"
      ]
     },
     "execution_count": 218,
     "metadata": {},
     "output_type": "execute_result"
    }
   ],
   "source": [
    "linear = linear_model_without_normalization()\n",
    "fit(linear)"
   ]
  },
  {
   "cell_type": "code",
   "execution_count": 23,
   "metadata": {
    "collapsed": false
   },
   "outputs": [
    {
     "name": "stdout",
     "output_type": "stream",
     "text": [
      "Train on 60000 samples, validate on 10000 samples\n",
      "Epoch 1/3\n",
      "1s - loss: 0.5113 - acc: 0.8505 - val_loss: 0.3486 - val_acc: 0.9023\n",
      "Epoch 2/3\n",
      "1s - loss: 0.3453 - acc: 0.9006 - val_loss: 0.3163 - val_acc: 0.9098\n",
      "Epoch 3/3\n",
      "1s - loss: 0.3203 - acc: 0.9085 - val_loss: 0.3030 - val_acc: 0.9136\n"
     ]
    },
    {
     "data": {
      "text/plain": [
       "<keras.callbacks.History at 0x7f66926d1a90>"
      ]
     },
     "execution_count": 23,
     "metadata": {},
     "output_type": "execute_result"
    }
   ],
   "source": [
    "linear = linear_model()\n",
    "fit(linear)"
   ]
  },
  {
   "cell_type": "markdown",
   "metadata": {},
   "source": [
    "#### neural nets"
   ]
  },
  {
   "cell_type": "code",
   "execution_count": 46,
   "metadata": {
    "collapsed": false
   },
   "outputs": [
    {
     "name": "stdout",
     "output_type": "stream",
     "text": [
      "Train on 60000 samples, validate on 10000 samples\n",
      "Epoch 1/3\n",
      "2s - loss: 0.6220 - acc: 0.8671 - val_loss: 0.3285 - val_acc: 0.9211\n",
      "Epoch 2/3\n",
      "2s - loss: 0.2867 - acc: 0.9242 - val_loss: 0.2496 - val_acc: 0.9318\n",
      "Epoch 3/3\n",
      "2s - loss: 0.2298 - acc: 0.9371 - val_loss: 0.2166 - val_acc: 0.9423\n"
     ]
    },
    {
     "data": {
      "text/plain": [
       "<keras.callbacks.History at 0x7f667ab035c0>"
      ]
     },
     "execution_count": 46,
     "metadata": {},
     "output_type": "execute_result"
    }
   ],
   "source": [
    "net = single_layer_network('sigmoid', 25, 'adam')\n",
    "fit(net)"
   ]
  },
  {
   "cell_type": "code",
   "execution_count": 48,
   "metadata": {
    "collapsed": false
   },
   "outputs": [
    {
     "name": "stdout",
     "output_type": "stream",
     "text": [
      "Train on 60000 samples, validate on 10000 samples\n",
      "Epoch 1/3\n",
      "3s - loss: 1.0252 - acc: 0.7684 - val_loss: 0.5879 - val_acc: 0.8699\n",
      "Epoch 2/3\n",
      "3s - loss: 0.5140 - acc: 0.8765 - val_loss: 0.4319 - val_acc: 0.8929\n",
      "Epoch 3/3\n",
      "3s - loss: 0.4158 - acc: 0.8921 - val_loss: 0.3719 - val_acc: 0.9016\n"
     ]
    },
    {
     "data": {
      "text/plain": [
       "<keras.callbacks.History at 0x7f667a3b9d30>"
      ]
     },
     "execution_count": 48,
     "metadata": {},
     "output_type": "execute_result"
    }
   ],
   "source": [
    "net = single_layer_network('sigmoid', 128, 'sgd')\n",
    "fit(net)"
   ]
  },
  {
   "cell_type": "code",
   "execution_count": 47,
   "metadata": {
    "collapsed": false
   },
   "outputs": [
    {
     "name": "stdout",
     "output_type": "stream",
     "text": [
      "Train on 60000 samples, validate on 10000 samples\n",
      "Epoch 1/3\n",
      "4s - loss: 0.3458 - acc: 0.9067 - val_loss: 0.2026 - val_acc: 0.9417\n",
      "Epoch 2/3\n",
      "3s - loss: 0.1725 - acc: 0.9503 - val_loss: 0.1459 - val_acc: 0.9569\n",
      "Epoch 3/3\n",
      "3s - loss: 0.1279 - acc: 0.9633 - val_loss: 0.1216 - val_acc: 0.9641\n"
     ]
    },
    {
     "data": {
      "text/plain": [
       "<keras.callbacks.History at 0x7f667a87d898>"
      ]
     },
     "execution_count": 47,
     "metadata": {},
     "output_type": "execute_result"
    }
   ],
   "source": [
    "net = single_layer_network('sigmoid', 128, 'adam')\n",
    "fit(net)"
   ]
  },
  {
   "cell_type": "code",
   "execution_count": 51,
   "metadata": {
    "collapsed": false
   },
   "outputs": [
    {
     "name": "stdout",
     "output_type": "stream",
     "text": [
      "Train on 60000 samples, validate on 10000 samples\n",
      "Epoch 1/3\n",
      "4s - loss: 0.2372 - acc: 0.9289 - val_loss: 0.1310 - val_acc: 0.9590\n",
      "Epoch 2/3\n",
      "3s - loss: 0.1060 - acc: 0.9682 - val_loss: 0.0996 - val_acc: 0.9675\n",
      "Epoch 3/3\n",
      "4s - loss: 0.0753 - acc: 0.9767 - val_loss: 0.0914 - val_acc: 0.9709\n"
     ]
    },
    {
     "data": {
      "text/plain": [
       "<keras.callbacks.History at 0x7f6678510b38>"
      ]
     },
     "execution_count": 51,
     "metadata": {},
     "output_type": "execute_result"
    }
   ],
   "source": [
    "net = single_layer_network('relu', 128, 'adam')\n",
    "fit(net)"
   ]
  },
  {
   "cell_type": "code",
   "execution_count": 50,
   "metadata": {
    "collapsed": false
   },
   "outputs": [
    {
     "name": "stdout",
     "output_type": "stream",
     "text": [
      "Train on 60000 samples, validate on 10000 samples\n",
      "Epoch 1/3\n",
      "11s - loss: 0.2803 - acc: 0.9177 - val_loss: 0.1616 - val_acc: 0.9533\n",
      "Epoch 2/3\n",
      "11s - loss: 0.1258 - acc: 0.9635 - val_loss: 0.1048 - val_acc: 0.9666\n",
      "Epoch 3/3\n",
      "10s - loss: 0.0823 - acc: 0.9762 - val_loss: 0.0886 - val_acc: 0.9719\n"
     ]
    },
    {
     "data": {
      "text/plain": [
       "<keras.callbacks.History at 0x7f6679c0d828>"
      ]
     },
     "execution_count": 50,
     "metadata": {},
     "output_type": "execute_result"
    }
   ],
   "source": [
    "net = single_layer_network('sigmoid', 512, 'adam')\n",
    "fit(net)"
   ]
  },
  {
   "cell_type": "code",
   "execution_count": 52,
   "metadata": {
    "collapsed": false
   },
   "outputs": [
    {
     "name": "stdout",
     "output_type": "stream",
     "text": [
      "Train on 60000 samples, validate on 10000 samples\n",
      "Epoch 1/3\n",
      "11s - loss: 0.1925 - acc: 0.9417 - val_loss: 0.1177 - val_acc: 0.9628\n",
      "Epoch 2/3\n",
      "11s - loss: 0.0796 - acc: 0.9759 - val_loss: 0.0849 - val_acc: 0.9724\n",
      "Epoch 3/3\n",
      "11s - loss: 0.0546 - acc: 0.9828 - val_loss: 0.0767 - val_acc: 0.9759\n"
     ]
    },
    {
     "data": {
      "text/plain": [
       "<keras.callbacks.History at 0x7f669c53f9b0>"
      ]
     },
     "execution_count": 52,
     "metadata": {},
     "output_type": "execute_result"
    }
   ],
   "source": [
    "net = single_layer_network('relu', 512, 'adam')\n",
    "fit(net)"
   ]
  },
  {
   "cell_type": "code",
   "execution_count": 32,
   "metadata": {
    "collapsed": false
   },
   "outputs": [
    {
     "name": "stdout",
     "output_type": "stream",
     "text": [
      "Train on 1000 samples, validate on 1000 samples\n",
      "Epoch 1/5\n",
      "0s - loss: 1.3540 - acc: 0.5850 - val_loss: 0.8517 - val_acc: 0.7160\n",
      "Epoch 2/5\n",
      "0s - loss: 0.4914 - acc: 0.8590 - val_loss: 0.5888 - val_acc: 0.7930\n",
      "Epoch 3/5\n",
      "0s - loss: 0.2882 - acc: 0.9140 - val_loss: 0.5112 - val_acc: 0.8230\n",
      "Epoch 4/5\n",
      "0s - loss: 0.1910 - acc: 0.9500 - val_loss: 0.4663 - val_acc: 0.8400\n",
      "Epoch 5/5\n",
      "0s - loss: 0.1164 - acc: 0.9730 - val_loss: 0.4983 - val_acc: 0.8320\n"
     ]
    },
    {
     "data": {
      "text/plain": [
       "<keras.callbacks.History at 0x7f375c3a1da0>"
      ]
     },
     "execution_count": 32,
     "metadata": {},
     "output_type": "execute_result"
    }
   ],
   "source": [
    "net = two_leyered_network('relu', 128, 'adam')\n",
    "small_fit(net,5)"
   ]
  },
  {
   "cell_type": "markdown",
   "metadata": {},
   "source": [
    "#### Convnets test"
   ]
  },
  {
   "cell_type": "code",
   "execution_count": 44,
   "metadata": {
    "collapsed": false
   },
   "outputs": [
    {
     "name": "stdout",
     "output_type": "stream",
     "text": [
      "Train on 60000 samples, validate on 10000 samples\n",
      "Epoch 1/5\n",
      "358s - loss: 0.1670 - acc: 0.9492 - val_loss: 0.0544 - val_acc: 0.9818\n",
      "Epoch 2/5\n",
      "360s - loss: 0.0522 - acc: 0.9840 - val_loss: 0.0405 - val_acc: 0.9868\n",
      "Epoch 3/5\n",
      "359s - loss: 0.0353 - acc: 0.9889 - val_loss: 0.0400 - val_acc: 0.9870\n",
      "Epoch 4/5\n",
      "358s - loss: 0.0271 - acc: 0.9912 - val_loss: 0.0423 - val_acc: 0.9875\n",
      "Epoch 5/5\n"
     ]
    },
    {
     "ename": "KeyboardInterrupt",
     "evalue": "",
     "output_type": "error",
     "traceback": [
      "\u001b[0;31m---------------------------------------------------------------------------\u001b[0m",
      "\u001b[0;31mKeyboardInterrupt\u001b[0m                         Traceback (most recent call last)",
      "\u001b[0;32m<ipython-input-44-df39cab971b6>\u001b[0m in \u001b[0;36m<module>\u001b[0;34m()\u001b[0m\n\u001b[1;32m      1\u001b[0m \u001b[0mnet\u001b[0m \u001b[0;34m=\u001b[0m \u001b[0msimple_convnet\u001b[0m\u001b[0;34m(\u001b[0m\u001b[0;34m)\u001b[0m\u001b[0;34m\u001b[0m\u001b[0m\n\u001b[0;32m----> 2\u001b[0;31m \u001b[0msmall_fit\u001b[0m\u001b[0;34m(\u001b[0m\u001b[0mnet\u001b[0m\u001b[0;34m,\u001b[0m \u001b[0;36m5\u001b[0m\u001b[0;34m,\u001b[0m \u001b[0;36m60000\u001b[0m\u001b[0;34m,\u001b[0m \u001b[0;36m10000\u001b[0m\u001b[0;34m)\u001b[0m\u001b[0;34m\u001b[0m\u001b[0m\n\u001b[0m",
      "\u001b[0;32m<ipython-input-41-3694f64f2741>\u001b[0m in \u001b[0;36msmall_fit\u001b[0;34m(model, epochs, max_train, max_test)\u001b[0m\n\u001b[1;32m      9\u001b[0m     \u001b[0msmall_x_test\u001b[0m \u001b[0;34m=\u001b[0m \u001b[0mx_test\u001b[0m\u001b[0;34m[\u001b[0m\u001b[0;36m0\u001b[0m\u001b[0;34m:\u001b[0m\u001b[0mmax_test\u001b[0m\u001b[0;34m]\u001b[0m\u001b[0;34m\u001b[0m\u001b[0m\n\u001b[1;32m     10\u001b[0m     \u001b[0msmall_y_test\u001b[0m \u001b[0;34m=\u001b[0m \u001b[0my_test\u001b[0m\u001b[0;34m[\u001b[0m\u001b[0;36m0\u001b[0m\u001b[0;34m:\u001b[0m\u001b[0mmax_test\u001b[0m\u001b[0;34m]\u001b[0m\u001b[0;34m\u001b[0m\u001b[0m\n\u001b[0;32m---> 11\u001b[0;31m     \u001b[0;32mreturn\u001b[0m \u001b[0mmodel\u001b[0m\u001b[0;34m.\u001b[0m\u001b[0mfit\u001b[0m\u001b[0;34m(\u001b[0m\u001b[0msmall_x_train\u001b[0m\u001b[0;34m,\u001b[0m \u001b[0msmall_y_train\u001b[0m\u001b[0;34m,\u001b[0m \u001b[0mepochs\u001b[0m\u001b[0;34m=\u001b[0m\u001b[0mepochs\u001b[0m\u001b[0;34m,\u001b[0m \u001b[0mbatch_size\u001b[0m \u001b[0;34m=\u001b[0m \u001b[0mbatch_size\u001b[0m\u001b[0;34m,\u001b[0m \u001b[0mverbose\u001b[0m\u001b[0;34m=\u001b[0m\u001b[0;36m2\u001b[0m\u001b[0;34m,\u001b[0m \u001b[0mvalidation_data\u001b[0m\u001b[0;34m=\u001b[0m\u001b[0;34m(\u001b[0m\u001b[0msmall_x_test\u001b[0m\u001b[0;34m,\u001b[0m \u001b[0msmall_y_test\u001b[0m\u001b[0;34m)\u001b[0m\u001b[0;34m)\u001b[0m\u001b[0;34m\u001b[0m\u001b[0m\n\u001b[0m",
      "\u001b[0;32m/home/buzz/anaconda3/lib/python3.6/site-packages/keras/models.py\u001b[0m in \u001b[0;36mfit\u001b[0;34m(self, x, y, batch_size, epochs, verbose, callbacks, validation_split, validation_data, shuffle, class_weight, sample_weight, initial_epoch, **kwargs)\u001b[0m\n\u001b[1;32m    843\u001b[0m                               \u001b[0mclass_weight\u001b[0m\u001b[0;34m=\u001b[0m\u001b[0mclass_weight\u001b[0m\u001b[0;34m,\u001b[0m\u001b[0;34m\u001b[0m\u001b[0m\n\u001b[1;32m    844\u001b[0m                               \u001b[0msample_weight\u001b[0m\u001b[0;34m=\u001b[0m\u001b[0msample_weight\u001b[0m\u001b[0;34m,\u001b[0m\u001b[0;34m\u001b[0m\u001b[0m\n\u001b[0;32m--> 845\u001b[0;31m                               initial_epoch=initial_epoch)\n\u001b[0m\u001b[1;32m    846\u001b[0m \u001b[0;34m\u001b[0m\u001b[0m\n\u001b[1;32m    847\u001b[0m     def evaluate(self, x, y, batch_size=32, verbose=1,\n",
      "\u001b[0;32m/home/buzz/anaconda3/lib/python3.6/site-packages/keras/engine/training.py\u001b[0m in \u001b[0;36mfit\u001b[0;34m(self, x, y, batch_size, epochs, verbose, callbacks, validation_split, validation_data, shuffle, class_weight, sample_weight, initial_epoch, **kwargs)\u001b[0m\n\u001b[1;32m   1483\u001b[0m                               \u001b[0mval_f\u001b[0m\u001b[0;34m=\u001b[0m\u001b[0mval_f\u001b[0m\u001b[0;34m,\u001b[0m \u001b[0mval_ins\u001b[0m\u001b[0;34m=\u001b[0m\u001b[0mval_ins\u001b[0m\u001b[0;34m,\u001b[0m \u001b[0mshuffle\u001b[0m\u001b[0;34m=\u001b[0m\u001b[0mshuffle\u001b[0m\u001b[0;34m,\u001b[0m\u001b[0;34m\u001b[0m\u001b[0m\n\u001b[1;32m   1484\u001b[0m                               \u001b[0mcallback_metrics\u001b[0m\u001b[0;34m=\u001b[0m\u001b[0mcallback_metrics\u001b[0m\u001b[0;34m,\u001b[0m\u001b[0;34m\u001b[0m\u001b[0m\n\u001b[0;32m-> 1485\u001b[0;31m                               initial_epoch=initial_epoch)\n\u001b[0m\u001b[1;32m   1486\u001b[0m \u001b[0;34m\u001b[0m\u001b[0m\n\u001b[1;32m   1487\u001b[0m     \u001b[0;32mdef\u001b[0m \u001b[0mevaluate\u001b[0m\u001b[0;34m(\u001b[0m\u001b[0mself\u001b[0m\u001b[0;34m,\u001b[0m \u001b[0mx\u001b[0m\u001b[0;34m,\u001b[0m \u001b[0my\u001b[0m\u001b[0;34m,\u001b[0m \u001b[0mbatch_size\u001b[0m\u001b[0;34m=\u001b[0m\u001b[0;36m32\u001b[0m\u001b[0;34m,\u001b[0m \u001b[0mverbose\u001b[0m\u001b[0;34m=\u001b[0m\u001b[0;36m1\u001b[0m\u001b[0;34m,\u001b[0m \u001b[0msample_weight\u001b[0m\u001b[0;34m=\u001b[0m\u001b[0;32mNone\u001b[0m\u001b[0;34m)\u001b[0m\u001b[0;34m:\u001b[0m\u001b[0;34m\u001b[0m\u001b[0m\n",
      "\u001b[0;32m/home/buzz/anaconda3/lib/python3.6/site-packages/keras/engine/training.py\u001b[0m in \u001b[0;36m_fit_loop\u001b[0;34m(self, f, ins, out_labels, batch_size, epochs, verbose, callbacks, val_f, val_ins, shuffle, callback_metrics, initial_epoch)\u001b[0m\n\u001b[1;32m   1138\u001b[0m                 \u001b[0mbatch_logs\u001b[0m\u001b[0;34m[\u001b[0m\u001b[0;34m'size'\u001b[0m\u001b[0;34m]\u001b[0m \u001b[0;34m=\u001b[0m \u001b[0mlen\u001b[0m\u001b[0;34m(\u001b[0m\u001b[0mbatch_ids\u001b[0m\u001b[0;34m)\u001b[0m\u001b[0;34m\u001b[0m\u001b[0m\n\u001b[1;32m   1139\u001b[0m                 \u001b[0mcallbacks\u001b[0m\u001b[0;34m.\u001b[0m\u001b[0mon_batch_begin\u001b[0m\u001b[0;34m(\u001b[0m\u001b[0mbatch_index\u001b[0m\u001b[0;34m,\u001b[0m \u001b[0mbatch_logs\u001b[0m\u001b[0;34m)\u001b[0m\u001b[0;34m\u001b[0m\u001b[0m\n\u001b[0;32m-> 1140\u001b[0;31m                 \u001b[0mouts\u001b[0m \u001b[0;34m=\u001b[0m \u001b[0mf\u001b[0m\u001b[0;34m(\u001b[0m\u001b[0mins_batch\u001b[0m\u001b[0;34m)\u001b[0m\u001b[0;34m\u001b[0m\u001b[0m\n\u001b[0m\u001b[1;32m   1141\u001b[0m                 \u001b[0;32mif\u001b[0m \u001b[0;32mnot\u001b[0m \u001b[0misinstance\u001b[0m\u001b[0;34m(\u001b[0m\u001b[0mouts\u001b[0m\u001b[0;34m,\u001b[0m \u001b[0mlist\u001b[0m\u001b[0;34m)\u001b[0m\u001b[0;34m:\u001b[0m\u001b[0;34m\u001b[0m\u001b[0m\n\u001b[1;32m   1142\u001b[0m                     \u001b[0mouts\u001b[0m \u001b[0;34m=\u001b[0m \u001b[0;34m[\u001b[0m\u001b[0mouts\u001b[0m\u001b[0;34m]\u001b[0m\u001b[0;34m\u001b[0m\u001b[0m\n",
      "\u001b[0;32m/home/buzz/anaconda3/lib/python3.6/site-packages/keras/backend/tensorflow_backend.py\u001b[0m in \u001b[0;36m__call__\u001b[0;34m(self, inputs)\u001b[0m\n\u001b[1;32m   2071\u001b[0m         \u001b[0msession\u001b[0m \u001b[0;34m=\u001b[0m \u001b[0mget_session\u001b[0m\u001b[0;34m(\u001b[0m\u001b[0;34m)\u001b[0m\u001b[0;34m\u001b[0m\u001b[0m\n\u001b[1;32m   2072\u001b[0m         updated = session.run(self.outputs + [self.updates_op],\n\u001b[0;32m-> 2073\u001b[0;31m                               feed_dict=feed_dict)\n\u001b[0m\u001b[1;32m   2074\u001b[0m         \u001b[0;32mreturn\u001b[0m \u001b[0mupdated\u001b[0m\u001b[0;34m[\u001b[0m\u001b[0;34m:\u001b[0m\u001b[0mlen\u001b[0m\u001b[0;34m(\u001b[0m\u001b[0mself\u001b[0m\u001b[0;34m.\u001b[0m\u001b[0moutputs\u001b[0m\u001b[0;34m)\u001b[0m\u001b[0;34m]\u001b[0m\u001b[0;34m\u001b[0m\u001b[0m\n\u001b[1;32m   2075\u001b[0m \u001b[0;34m\u001b[0m\u001b[0m\n",
      "\u001b[0;32m/home/buzz/anaconda3/lib/python3.6/site-packages/tensorflow/python/client/session.py\u001b[0m in \u001b[0;36mrun\u001b[0;34m(self, fetches, feed_dict, options, run_metadata)\u001b[0m\n\u001b[1;32m    765\u001b[0m     \u001b[0;32mtry\u001b[0m\u001b[0;34m:\u001b[0m\u001b[0;34m\u001b[0m\u001b[0m\n\u001b[1;32m    766\u001b[0m       result = self._run(None, fetches, feed_dict, options_ptr,\n\u001b[0;32m--> 767\u001b[0;31m                          run_metadata_ptr)\n\u001b[0m\u001b[1;32m    768\u001b[0m       \u001b[0;32mif\u001b[0m \u001b[0mrun_metadata\u001b[0m\u001b[0;34m:\u001b[0m\u001b[0;34m\u001b[0m\u001b[0m\n\u001b[1;32m    769\u001b[0m         \u001b[0mproto_data\u001b[0m \u001b[0;34m=\u001b[0m \u001b[0mtf_session\u001b[0m\u001b[0;34m.\u001b[0m\u001b[0mTF_GetBuffer\u001b[0m\u001b[0;34m(\u001b[0m\u001b[0mrun_metadata_ptr\u001b[0m\u001b[0;34m)\u001b[0m\u001b[0;34m\u001b[0m\u001b[0m\n",
      "\u001b[0;32m/home/buzz/anaconda3/lib/python3.6/site-packages/tensorflow/python/client/session.py\u001b[0m in \u001b[0;36m_run\u001b[0;34m(self, handle, fetches, feed_dict, options, run_metadata)\u001b[0m\n\u001b[1;32m    963\u001b[0m     \u001b[0;32mif\u001b[0m \u001b[0mfinal_fetches\u001b[0m \u001b[0;32mor\u001b[0m \u001b[0mfinal_targets\u001b[0m\u001b[0;34m:\u001b[0m\u001b[0;34m\u001b[0m\u001b[0m\n\u001b[1;32m    964\u001b[0m       results = self._do_run(handle, final_targets, final_fetches,\n\u001b[0;32m--> 965\u001b[0;31m                              feed_dict_string, options, run_metadata)\n\u001b[0m\u001b[1;32m    966\u001b[0m     \u001b[0;32melse\u001b[0m\u001b[0;34m:\u001b[0m\u001b[0;34m\u001b[0m\u001b[0m\n\u001b[1;32m    967\u001b[0m       \u001b[0mresults\u001b[0m \u001b[0;34m=\u001b[0m \u001b[0;34m[\u001b[0m\u001b[0;34m]\u001b[0m\u001b[0;34m\u001b[0m\u001b[0m\n",
      "\u001b[0;32m/home/buzz/anaconda3/lib/python3.6/site-packages/tensorflow/python/client/session.py\u001b[0m in \u001b[0;36m_do_run\u001b[0;34m(self, handle, target_list, fetch_list, feed_dict, options, run_metadata)\u001b[0m\n\u001b[1;32m   1013\u001b[0m     \u001b[0;32mif\u001b[0m \u001b[0mhandle\u001b[0m \u001b[0;32mis\u001b[0m \u001b[0;32mNone\u001b[0m\u001b[0;34m:\u001b[0m\u001b[0;34m\u001b[0m\u001b[0m\n\u001b[1;32m   1014\u001b[0m       return self._do_call(_run_fn, self._session, feed_dict, fetch_list,\n\u001b[0;32m-> 1015\u001b[0;31m                            target_list, options, run_metadata)\n\u001b[0m\u001b[1;32m   1016\u001b[0m     \u001b[0;32melse\u001b[0m\u001b[0;34m:\u001b[0m\u001b[0;34m\u001b[0m\u001b[0m\n\u001b[1;32m   1017\u001b[0m       return self._do_call(_prun_fn, self._session, handle, feed_dict,\n",
      "\u001b[0;32m/home/buzz/anaconda3/lib/python3.6/site-packages/tensorflow/python/client/session.py\u001b[0m in \u001b[0;36m_do_call\u001b[0;34m(self, fn, *args)\u001b[0m\n\u001b[1;32m   1020\u001b[0m   \u001b[0;32mdef\u001b[0m \u001b[0m_do_call\u001b[0m\u001b[0;34m(\u001b[0m\u001b[0mself\u001b[0m\u001b[0;34m,\u001b[0m \u001b[0mfn\u001b[0m\u001b[0;34m,\u001b[0m \u001b[0;34m*\u001b[0m\u001b[0margs\u001b[0m\u001b[0;34m)\u001b[0m\u001b[0;34m:\u001b[0m\u001b[0;34m\u001b[0m\u001b[0m\n\u001b[1;32m   1021\u001b[0m     \u001b[0;32mtry\u001b[0m\u001b[0;34m:\u001b[0m\u001b[0;34m\u001b[0m\u001b[0m\n\u001b[0;32m-> 1022\u001b[0;31m       \u001b[0;32mreturn\u001b[0m \u001b[0mfn\u001b[0m\u001b[0;34m(\u001b[0m\u001b[0;34m*\u001b[0m\u001b[0margs\u001b[0m\u001b[0;34m)\u001b[0m\u001b[0;34m\u001b[0m\u001b[0m\n\u001b[0m\u001b[1;32m   1023\u001b[0m     \u001b[0;32mexcept\u001b[0m \u001b[0merrors\u001b[0m\u001b[0;34m.\u001b[0m\u001b[0mOpError\u001b[0m \u001b[0;32mas\u001b[0m \u001b[0me\u001b[0m\u001b[0;34m:\u001b[0m\u001b[0;34m\u001b[0m\u001b[0m\n\u001b[1;32m   1024\u001b[0m       \u001b[0mmessage\u001b[0m \u001b[0;34m=\u001b[0m \u001b[0mcompat\u001b[0m\u001b[0;34m.\u001b[0m\u001b[0mas_text\u001b[0m\u001b[0;34m(\u001b[0m\u001b[0me\u001b[0m\u001b[0;34m.\u001b[0m\u001b[0mmessage\u001b[0m\u001b[0;34m)\u001b[0m\u001b[0;34m\u001b[0m\u001b[0m\n",
      "\u001b[0;32m/home/buzz/anaconda3/lib/python3.6/site-packages/tensorflow/python/client/session.py\u001b[0m in \u001b[0;36m_run_fn\u001b[0;34m(session, feed_dict, fetch_list, target_list, options, run_metadata)\u001b[0m\n\u001b[1;32m   1002\u001b[0m         return tf_session.TF_Run(session, options,\n\u001b[1;32m   1003\u001b[0m                                  \u001b[0mfeed_dict\u001b[0m\u001b[0;34m,\u001b[0m \u001b[0mfetch_list\u001b[0m\u001b[0;34m,\u001b[0m \u001b[0mtarget_list\u001b[0m\u001b[0;34m,\u001b[0m\u001b[0;34m\u001b[0m\u001b[0m\n\u001b[0;32m-> 1004\u001b[0;31m                                  status, run_metadata)\n\u001b[0m\u001b[1;32m   1005\u001b[0m \u001b[0;34m\u001b[0m\u001b[0m\n\u001b[1;32m   1006\u001b[0m     \u001b[0;32mdef\u001b[0m \u001b[0m_prun_fn\u001b[0m\u001b[0;34m(\u001b[0m\u001b[0msession\u001b[0m\u001b[0;34m,\u001b[0m \u001b[0mhandle\u001b[0m\u001b[0;34m,\u001b[0m \u001b[0mfeed_dict\u001b[0m\u001b[0;34m,\u001b[0m \u001b[0mfetch_list\u001b[0m\u001b[0;34m)\u001b[0m\u001b[0;34m:\u001b[0m\u001b[0;34m\u001b[0m\u001b[0m\n",
      "\u001b[0;31mKeyboardInterrupt\u001b[0m: "
     ]
    }
   ],
   "source": [
    "net = simple_convnet()\n",
    "small_fit(net, 5, 60000, 10000)"
   ]
  },
  {
   "cell_type": "code",
   "execution_count": 37,
   "metadata": {
    "collapsed": false
   },
   "outputs": [
    {
     "name": "stdout",
     "output_type": "stream",
     "text": [
      "_________________________________________________________________\n",
      "Layer (type)                 Output Shape              Param #   \n",
      "=================================================================\n",
      "lambda_8 (Lambda)            (None, 1, 28, 28)         0         \n",
      "_________________________________________________________________\n",
      "conv2d_12 (Conv2D)           (None, 32, 26, 26)        320       \n",
      "_________________________________________________________________\n",
      "conv2d_13 (Conv2D)           (None, 32, 24, 24)        9248      \n",
      "_________________________________________________________________\n",
      "max_pooling2d_6 (MaxPooling2 (None, 32, 12, 12)        0         \n",
      "_________________________________________________________________\n",
      "flatten_6 (Flatten)          (None, 4608)              0         \n",
      "_________________________________________________________________\n",
      "dense_11 (Dense)             (None, 25)                115225    \n",
      "_________________________________________________________________\n",
      "dense_12 (Dense)             (None, 10)                260       \n",
      "=================================================================\n",
      "Total params: 125,053.0\n",
      "Trainable params: 125,053.0\n",
      "Non-trainable params: 0.0\n",
      "_________________________________________________________________\n"
     ]
    }
   ],
   "source": [
    "net.summary()"
   ]
  },
  {
   "cell_type": "code",
   "execution_count": 183,
   "metadata": {
    "collapsed": true
   },
   "outputs": [],
   "source": [
    "def plot(grid, image):\n",
    "    (c, w, h) = image.shape\n",
    "    image_rgb = np.zeros([w, h, 3])\n",
    "    normalized_image = (image - image.min()) / (image.max() - image.min())\n",
    "    image_rgb[:, :, 0] = normalized_image\n",
    "    grid.imshow(image_rgb[:,:,0], cmap='gray')"
   ]
  },
  {
   "cell_type": "code",
   "execution_count": 207,
   "metadata": {
    "collapsed": false
   },
   "outputs": [],
   "source": [
    "def plot_weights(weights):\n",
    "    fig = pyplot.figure(figsize=(15,10))\n",
    "    grid = ImageGrid(fig, 111, nrows_ncols=(4, 8), axes_pad=0.3)\n",
    "\n",
    "    for w in range(len(weights[0])):\n",
    "        plot(grid[w], weights[0][w])\n",
    "        grid[w].axis('off')\n",
    "\n",
    "    pyplot.show(block=True)"
   ]
  },
  {
   "cell_type": "code",
   "execution_count": 222,
   "metadata": {
    "collapsed": false
   },
   "outputs": [
    {
     "name": "stdout",
     "output_type": "stream",
     "text": [
      "<keras.layers.convolutional.Convolution2D object at 0x7f374c46beb8>\n",
      "[array([[[[  8.55829101e-03,   2.33265013e-02,   1.46452278e-01],\n",
      "         [  1.00396061e-02,   1.03864051e-01,  -1.67869050e-02],\n",
      "         [ -1.00498572e-01,  -1.44897297e-01,  -2.81897075e-02]]],\n",
      "\n",
      "\n",
      "       [[[  1.58030540e-01,   7.20363334e-02,  -3.78120020e-02],\n",
      "         [  1.61624357e-01,   1.10332526e-01,   1.75694078e-01],\n",
      "         [ -2.39192834e-03,  -4.63606715e-02,   8.19005221e-02]]],\n",
      "\n",
      "\n",
      "       [[[  1.40042119e-02,  -2.87507102e-02,  -1.15399413e-01],\n",
      "         [ -4.37535830e-02,   9.51907262e-02,   1.15011394e-01],\n",
      "         [ -8.39040577e-02,  -7.27592483e-02,  -1.71873998e-02]]],\n",
      "\n",
      "\n",
      "       [[[  2.22148336e-02,  -1.49293885e-01,  -1.41439304e-01],\n",
      "         [ -1.42387360e-01,  -8.72359425e-02,   5.23324348e-02],\n",
      "         [ -1.29353208e-02,  -3.36085185e-02,  -1.30088881e-01]]],\n",
      "\n",
      "\n",
      "       [[[ -9.27122682e-02,  -1.10739127e-01,  -4.57207598e-02],\n",
      "         [ -8.58479440e-02,   6.58797547e-02,   6.43698946e-02],\n",
      "         [  1.87033772e-01,   1.58906970e-02,   5.22506051e-02]]],\n",
      "\n",
      "\n",
      "       [[[ -5.04493415e-02,  -6.39216229e-02,  -4.86781746e-02],\n",
      "         [  1.16796792e-01,  -5.06768748e-02,  -9.60798338e-02],\n",
      "         [ -1.20322919e-02,   1.08688794e-01,  -9.21792351e-03]]],\n",
      "\n",
      "\n",
      "       [[[ -1.55283302e-01,  -9.55420136e-02,  -9.02391300e-02],\n",
      "         [  9.51960981e-02,   9.80980974e-03,  -1.19213678e-01],\n",
      "         [  3.13665383e-02,   1.28685102e-01,   1.09534107e-01]]],\n",
      "\n",
      "\n",
      "       [[[  3.12304068e-02,  -5.55804148e-02,   1.17342792e-01],\n",
      "         [  4.10439558e-02,  -5.81773482e-02,   8.91009420e-02],\n",
      "         [  4.69279662e-03,  -1.34557888e-01,  -6.75655752e-02]]],\n",
      "\n",
      "\n",
      "       [[[  1.33389860e-01,   1.61595702e-01,   1.62920073e-01],\n",
      "         [ -3.50481905e-02,   1.50466561e-01,   3.05796228e-02],\n",
      "         [ -5.82972690e-02,   1.27739117e-01,   9.09216478e-02]]],\n",
      "\n",
      "\n",
      "       [[[  1.39097303e-01,  -1.40383858e-02,   1.17764577e-01],\n",
      "         [  1.41918302e-01,   1.65267885e-01,   7.45734349e-02],\n",
      "         [  1.32147640e-01,  -7.00467965e-03,  -2.01633368e-02]]],\n",
      "\n",
      "\n",
      "       [[[ -7.06897825e-02,  -9.96507481e-02,  -7.71241188e-02],\n",
      "         [  3.54736596e-02,   4.16987464e-02,  -1.24587655e-01],\n",
      "         [  5.01269810e-02,  -8.97532851e-02,   5.60055189e-02]]],\n",
      "\n",
      "\n",
      "       [[[  9.77157876e-02,  -1.09796599e-01,   1.45536497e-01],\n",
      "         [  9.97680649e-02,  -1.33259058e-01,   7.88089558e-02],\n",
      "         [  1.01094879e-01,  -9.34724137e-02,  -9.45755318e-02]]],\n",
      "\n",
      "\n",
      "       [[[  1.74323186e-01,   1.20553292e-01,   4.37034965e-02],\n",
      "         [  7.28239492e-02,  -8.81517828e-02,   8.15319046e-02],\n",
      "         [  6.40325621e-02,  -3.05632371e-02,  -1.21462151e-01]]],\n",
      "\n",
      "\n",
      "       [[[ -4.00911272e-02,  -6.94180652e-02,   1.05144933e-01],\n",
      "         [ -5.19078523e-02,  -1.17741473e-01,  -1.33203790e-01],\n",
      "         [ -4.93851379e-02,   1.18944131e-01,  -7.09932670e-02]]],\n",
      "\n",
      "\n",
      "       [[[ -9.65143647e-03,  -1.16021857e-01,  -8.99933726e-02],\n",
      "         [  1.09006397e-01,  -8.76574442e-02,   9.25701261e-02],\n",
      "         [ -8.66589397e-02,   1.79215129e-02,  -1.22620218e-01]]],\n",
      "\n",
      "\n",
      "       [[[  1.63446143e-01,  -8.18906575e-02,  -9.65860263e-02],\n",
      "         [ -9.04452652e-02,   3.14414129e-02,   1.16598252e-02],\n",
      "         [ -1.24669693e-01,  -3.11017293e-03,  -1.31461650e-01]]],\n",
      "\n",
      "\n",
      "       [[[ -5.68324234e-03,   3.15927789e-02,   8.63068849e-02],\n",
      "         [ -4.43991236e-02,   4.87950398e-03,  -3.31696272e-02],\n",
      "         [  3.96567993e-02,   7.61396512e-02,   7.27727711e-02]]],\n",
      "\n",
      "\n",
      "       [[[  1.54908344e-01,   3.10091656e-02,  -9.40374732e-02],\n",
      "         [ -9.67735499e-02,   4.05768789e-02,  -9.54794958e-02],\n",
      "         [  3.56217138e-02,   6.31639734e-02,   1.00135155e-01]]],\n",
      "\n",
      "\n",
      "       [[[  1.44167379e-01,   3.85291576e-02,  -1.65656537e-01],\n",
      "         [  4.74535227e-02,   7.07673058e-02,  -7.92033598e-03],\n",
      "         [ -6.98882192e-02,   1.23429149e-01,  -1.55173911e-04]]],\n",
      "\n",
      "\n",
      "       [[[ -7.58712590e-02,  -2.36030258e-02,   8.32696557e-02],\n",
      "         [ -7.90307224e-02,  -6.12062076e-03,  -1.21726602e-01],\n",
      "         [  1.59570709e-01,   1.68164164e-01,   9.91129503e-02]]],\n",
      "\n",
      "\n",
      "       [[[  6.97897524e-02,   1.61705092e-01,   7.11038709e-02],\n",
      "         [  1.66228950e-01,   5.41917197e-02,  -1.22564949e-01],\n",
      "         [  1.50451526e-01,  -6.31064400e-02,   2.23432332e-02]]],\n",
      "\n",
      "\n",
      "       [[[  6.79102466e-02,  -1.34010077e-01,  -1.28602624e-01],\n",
      "         [  1.21311672e-01,   1.21168189e-01,  -2.22902801e-02],\n",
      "         [  7.69245028e-02,   1.67798713e-01,   2.02627312e-02]]],\n",
      "\n",
      "\n",
      "       [[[  1.16099544e-01,   5.15826046e-03,   1.48312330e-01],\n",
      "         [ -9.65005904e-02,  -8.20086598e-02,  -5.49767651e-02],\n",
      "         [ -4.86379340e-02,  -4.00391333e-02,   5.13867065e-02]]],\n",
      "\n",
      "\n",
      "       [[[ -4.61696684e-02,  -4.92751300e-02,  -2.93835402e-02],\n",
      "         [ -2.05514580e-02,   1.35302544e-01,  -1.41127259e-01],\n",
      "         [  1.08164422e-01,   7.22256452e-02,  -4.07664962e-02]]],\n",
      "\n",
      "\n",
      "       [[[  1.31338611e-01,   1.12510733e-01,  -9.52952877e-02],\n",
      "         [  1.41596794e-01,   2.31912583e-02,  -1.27518743e-01],\n",
      "         [ -1.23505881e-02,   1.73658162e-01,   9.15086865e-02]]],\n",
      "\n",
      "\n",
      "       [[[ -6.94736391e-02,   3.20955478e-02,   1.00739278e-01],\n",
      "         [ -1.55676380e-01,  -2.50305757e-02,   1.05108716e-01],\n",
      "         [  2.25900207e-02,   7.83966482e-02,  -2.38268841e-02]]],\n",
      "\n",
      "\n",
      "       [[[  1.04244556e-02,  -1.62849158e-01,   3.43685597e-02],\n",
      "         [ -1.07311927e-01,   1.28010169e-01,  -7.05436990e-02],\n",
      "         [  1.52240127e-01,   1.37922794e-01,   6.68040588e-02]]],\n",
      "\n",
      "\n",
      "       [[[ -1.27279788e-01,  -1.41132995e-01,  -1.31231453e-02],\n",
      "         [  3.14756762e-03,   7.87127540e-02,   1.52087495e-01],\n",
      "         [  1.14596851e-01,   2.93833613e-02,  -2.74062846e-02]]],\n",
      "\n",
      "\n",
      "       [[[ -1.36102363e-01,  -1.46245614e-01,  -1.41410679e-01],\n",
      "         [ -2.12860722e-02,   4.54214364e-02,   1.66197255e-01],\n",
      "         [  1.56725451e-01,   7.57524669e-02,  -1.11445156e-03]]],\n",
      "\n",
      "\n",
      "       [[[ -3.78568023e-02,   3.71938683e-02,  -5.02034687e-02],\n",
      "         [  2.64940523e-02,   6.56382367e-02,  -1.01571940e-01],\n",
      "         [  6.66161301e-03,  -6.54303059e-02,   1.20990366e-01]]],\n",
      "\n",
      "\n",
      "       [[[  1.28474042e-01,   1.20410778e-01,   9.78607591e-03],\n",
      "         [  3.35783027e-02,   1.63779065e-01,   3.15530673e-02],\n",
      "         [ -9.64255184e-02,   9.05512050e-02,   9.35868099e-02]]],\n",
      "\n",
      "\n",
      "       [[[ -1.05476908e-01,   1.27911359e-01,   1.41754091e-01],\n",
      "         [  1.19921483e-01,   5.54483868e-02,   1.57360330e-01],\n",
      "         [  7.85218254e-02,   5.00663109e-02,   2.19872147e-02]]]], dtype=float32), array([-0.00802566,  0.03889221, -0.02040398,  0.01248944,  0.02210307,\n",
      "       -0.00787885,  0.01531415, -0.00477513,  0.04621236,  0.04916354,\n",
      "       -0.01551931,  0.03129176,  0.0464999 ,  0.0036463 ,  0.0084157 ,\n",
      "        0.0117872 ,  0.01328699,  0.02055914,  0.02729055,  0.03053849,\n",
      "        0.04301337,  0.03473286,  0.00215401, -0.0076016 ,  0.03788067,\n",
      "        0.00342493,  0.03330911,  0.01833804,  0.00706161, -0.0139683 ,\n",
      "        0.03286062,  0.03907972], dtype=float32)]\n"
     ]
    },
    {
     "data": {
      "text/plain": [
       "((1, 3, 3), 32)"
      ]
     },
     "execution_count": 222,
     "metadata": {},
     "output_type": "execute_result"
    }
   ],
   "source": [
    "l = net.layers[1]\n",
    "print(l)\n",
    "weights = l.get_weights()\n",
    "print(weights)\n",
    "#plot_weights(weights)\n",
    "weights[0][0].shape, len(weights[0])\n"
   ]
  }
 ],
 "metadata": {
  "kernelspec": {
   "display_name": "Python 3",
   "language": "python",
   "name": "python3"
  },
  "language_info": {
   "codemirror_mode": {
    "name": "ipython",
    "version": 3
   },
   "file_extension": ".py",
   "mimetype": "text/x-python",
   "name": "python",
   "nbconvert_exporter": "python",
   "pygments_lexer": "ipython3",
   "version": "3.6.0"
  }
 },
 "nbformat": 4,
 "nbformat_minor": 2
}
